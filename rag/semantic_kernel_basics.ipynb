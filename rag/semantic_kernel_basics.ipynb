{
 "cells": [
  {
   "cell_type": "markdown",
   "metadata": {},
   "source": [
    "# Notebook showing basic operations of Kernel Memory - Document Ingestion\n",
    "\n",
    "Prompt for secrets from the user and save in a local file.  Ensure that the local file is not checked\n",
    "into source control.\n",
    "\n",
    "In this case, the only secret is the Azure Open AI Key."
   ]
  },
  {
   "cell_type": "code",
   "execution_count": null,
   "metadata": {
    "dotnet_interactive": {
     "language": "csharp"
    },
    "polyglot_notebook": {
     "kernelName": "csharp"
    }
   },
   "outputs": [],
   "source": [
    "// Work-around for Console.Readline() not working in polyglot notebooks: https://github.com/dotnet/interactive/blob/main/docs/input-prompts.md\n",
    "\n",
    "using InteractiveKernel = Microsoft.DotNet.Interactive.Kernel;\n",
    "\n",
    "string consoleInput(string prompt) {\n",
    "    Task<string> inputTask = InteractiveKernel.GetInputAsync(prompt);\n",
    "    string input = inputTask.Result;\n",
    "    return input;\n",
    "}\n",
    "\n",
    "//Console.WriteLine($\"Hello, {consoleInput(\"What's your name?\")}!\");\n"
   ]
  },
  {
   "cell_type": "code",
   "execution_count": null,
   "metadata": {
    "dotnet_interactive": {
     "language": "csharp"
    },
    "polyglot_notebook": {
     "kernelName": "csharp"
    }
   },
   "outputs": [],
   "source": [
    "using System;\n",
    "\n",
    "// Global configuration variables\n",
    "var SECRETS_FILE = \"azure_secrets.json\";\n",
    "var AZURE_OPENAI_ENDPOINT = \"https://ragchatopenai.openai.azure.com/\";\n",
    "var POSTGRESS_SQL_ENDPOINT = \"https://ragchatpostgres.postgres.database.azure.com/\";\n",
    "var OPENAI_MODEL = \"gpt-4o\";\n",
    "\n",
    "string[] secretKeys = {\"AZURE_OPENAI_KEY\", \"POSTGRES_SQL_PW\"};\n",
    "\n",
    "Dictionary<string, string> secrets = new Dictionary<string, string>();\n",
    "\n",
    "if (System.IO.File.Exists(SECRETS_FILE)) {\n",
    "    secrets = System.Text.Json.JsonSerializer.Deserialize<Dictionary<string, string>>(System.IO.File.ReadAllText(SECRETS_FILE));\n",
    "} else {\n",
    "    Console.WriteLine(\"Secrets file not found. Please enter the following secrets:\");\n",
    "    foreach (string key in secretKeys) {\n",
    "        secrets[key] = consoleInput($\"Please enter the value for {key}: \");\n",
    "    }\n",
    "    System.IO.File.WriteAllText(SECRETS_FILE, System.Text.Json.JsonSerializer.Serialize(secrets));\n",
    "}\n",
    "\n",
    "var AZURE_OPENAI_KEY = secrets[\"AZURE_OPENAI_KEY\"];\n",
    "var POSTGRES_SQL_PW = secrets[\"POSTGRES_SQL_PW\"];\n"
   ]
  },
  {
   "cell_type": "markdown",
   "metadata": {},
   "source": [
    "Import the required libraries and add a using statement.\n",
    "\n",
    "In this case, the only required library is the Kernel Memory system.  Just get the latest stable version of the library (i.e. don't specify a version)."
   ]
  },
  {
   "cell_type": "code",
   "execution_count": null,
   "metadata": {
    "dotnet_interactive": {
     "language": "csharp"
    },
    "polyglot_notebook": {
     "kernelName": "csharp"
    }
   },
   "outputs": [],
   "source": [
    "#r \"nuget: Microsoft.KernelMemory.Core\"\n",
    "\n",
    "using Microsoft.KernelMemory;"
   ]
  },
  {
   "cell_type": "markdown",
   "metadata": {},
   "source": [
    "Instantiate the framework.  Pass in two configurations - an embedding library to create the vector embeddings\n",
    "using ADA002, and a configuration to ask questions of a LLM.  In this case, use GPT 4Omni."
   ]
  },
  {
   "cell_type": "code",
   "execution_count": null,
   "metadata": {
    "dotnet_interactive": {
     "language": "csharp"
    },
    "polyglot_notebook": {
     "kernelName": "csharp"
    }
   },
   "outputs": [],
   "source": [
    "var embeddingConfig = new AzureOpenAIConfig()\n",
    "{\n",
    "    Auth = AzureOpenAIConfig.AuthTypes.APIKey,\n",
    "    Deployment = \"Embedding\",\n",
    "    Endpoint = AZURE_OPENAI_ENDPOINT,\n",
    "    APIKey = AZURE_OPENAI_KEY\n",
    "};\n",
    "\n",
    "var completionConfig = new AzureOpenAIConfig()\n",
    "{\n",
    "    Auth = AzureOpenAIConfig.AuthTypes.APIKey,\n",
    "    Deployment = \"GPT4o\",\n",
    "    Endpoint = AZURE_OPENAI_ENDPOINT,\n",
    "    APIKey = AZURE_OPENAI_KEY\n",
    "};\n",
    "\n",
    "var kernelMemory = new KernelMemoryBuilder()\n",
    "    .WithAzureOpenAITextEmbeddingGeneration(config: embeddingConfig)\n",
    "    .WithAzureOpenAITextGeneration(config: completionConfig)\n",
    "    .Build();"
   ]
  },
  {
   "cell_type": "markdown",
   "metadata": {},
   "source": [
    "Ingest a document.  This will create vector embeddings and store them in-memory.  This will store the full document broken up in chunk (snippets), with each chunk indexed by a vector describing the relevant aspects.  Kernel Memory then has the ability to search through the relevant chunks and only send the applicable ones to the LLM when a question is asked."
   ]
  },
  {
   "cell_type": "code",
   "execution_count": null,
   "metadata": {
    "dotnet_interactive": {
     "language": "csharp"
    },
    "polyglot_notebook": {
     "kernelName": "csharp"
    }
   },
   "outputs": [],
   "source": [
    "var docId = kernelMemory.ImportDocumentAsync(@\".\\documents\\Recipies.docx\").Result;\n",
    "Console.WriteLine(docId);"
   ]
  },
  {
   "cell_type": "markdown",
   "metadata": {},
   "source": [
    "Ask multiple questions of the indexed memory.  For each question, the memory will retrieve relevant information from the vector store, and then send them to the LLM along with the question.  If no relevant information is found, the answer returned is: \"INFO NOT FOUND\" (this is configurable)."
   ]
  },
  {
   "cell_type": "code",
   "execution_count": null,
   "metadata": {
    "dotnet_interactive": {
     "language": "csharp"
    },
    "polyglot_notebook": {
     "kernelName": "csharp"
    }
   },
   "outputs": [],
   "source": [
    "string[] questions =\n",
    "{\n",
    "    \"Give me a pescatarian recipie for Sui Mai dumplings\",\n",
    "    \"What's the difference between regular bread and no-knead bread?\",\n",
    "};\n",
    "\n",
    "foreach (var question in questions)\n",
    "{\n",
    "    Console.WriteLine($\"Question: {question}\");\n",
    "    var result = kernelMemory.AskAsync(question).Result;\n",
    "    Console.WriteLine($\"Response: {result}\");\n",
    "    Console.WriteLine(\"-------------------------------------------------------------\");\n",
    "}\n"
   ]
  },
  {
   "cell_type": "markdown",
   "metadata": {},
   "source": [
    "Search Memory for relevant results based on the question.  This will return full snippets of the source document which are relevant, along with a score which indicates the relevancy."
   ]
  },
  {
   "cell_type": "code",
   "execution_count": null,
   "metadata": {
    "dotnet_interactive": {
     "language": "csharp"
    },
    "polyglot_notebook": {
     "kernelName": "csharp"
    }
   },
   "outputs": [],
   "source": [
    "var response = kernelMemory.SearchAsync(\"How do I make dolmades?\").Result;\n",
    "response.Display();\n"
   ]
  },
  {
   "cell_type": "markdown",
   "metadata": {},
   "source": [
    "Create a new instance of Kernel Memory, this time configuring it to use PostgreSQL as the store for vectors."
   ]
  },
  {
   "cell_type": "code",
   "execution_count": null,
   "metadata": {
    "dotnet_interactive": {
     "language": "csharp"
    },
    "polyglot_notebook": {
     "kernelName": "csharp"
    }
   },
   "outputs": [],
   "source": [
    "var connString = $\"Host=salearningpostgres.postgres.database.azure.com;Database=ragchat0;Username=SALearningAdmin;Password={POSTGRES_SQL_PW};SSLMode=Require;Trust Server Certificate=true\";\n",
    "\n",
    "// AI Kernel Memory - Persist vectors to Postgres\n",
    "var postConfig = new PostgresConfig {\n",
    "    ConnectionString = connString\n",
    "};\n",
    "\n",
    "var Endpoint = \"https://ragchatopenai.openai.azure.com/\";\n",
    "\n",
    "var kernelMemoryDB = new KernelMemoryBuilder()\n",
    "    .WithAzureOpenAITextEmbeddingGeneration(config: embeddingConfig)\n",
    "    .WithAzureOpenAITextGeneration(config: completionConfig)\n",
    "    .WithPostgresMemoryDb(config: postConfig)\n",
    "    .Build();"
   ]
  },
  {
   "cell_type": "markdown",
   "metadata": {},
   "source": [
    "Ingest all files, in Launch directory, this time saving into database."
   ]
  },
  {
   "cell_type": "code",
   "execution_count": null,
   "metadata": {
    "dotnet_interactive": {
     "language": "csharp"
    },
    "polyglot_notebook": {
     "kernelName": "csharp"
    }
   },
   "outputs": [],
   "source": [
    "var docId = kernelMemoryDB.ImportDocumentAsync(@\".\\documents\\Recipies.docx\").Result;\n",
    "Console.WriteLine(docId);"
   ]
  },
  {
   "cell_type": "markdown",
   "metadata": {},
   "source": [
    "Ask question, this time using the saved vector embeddings in the database as opposed to the in memory store."
   ]
  },
  {
   "cell_type": "code",
   "execution_count": null,
   "metadata": {
    "dotnet_interactive": {
     "language": "csharp"
    },
    "polyglot_notebook": {
     "kernelName": "csharp"
    }
   },
   "outputs": [],
   "source": [
    "foreach (var question in questions)\n",
    "{\n",
    "    Console.WriteLine($\"Question: {question}\");\n",
    "    var result = kernelMemoryDB.AskAsync(question).Result;\n",
    "    Console.WriteLine($\"Response: {result}\");\n",
    "    Console.WriteLine(\"-------------------------------------------------------------\");\n",
    "}\n",
    "\n"
   ]
  }
 ],
 "metadata": {
  "kernelspec": {
   "display_name": ".NET (C#)",
   "language": "C#",
   "name": ".net-csharp"
  },
  "polyglot_notebook": {
   "kernelInfo": {
    "defaultKernelName": "csharp",
    "items": [
     {
      "aliases": [],
      "languageName": "csharp",
      "name": "csharp"
     }
    ]
   }
  }
 },
 "nbformat": 4,
 "nbformat_minor": 2
}
